{
 "cells": [
  {
   "cell_type": "code",
   "execution_count": 6,
   "metadata": {},
   "outputs": [],
   "source": [
    "import sqlite3\n",
    "import pandas as pd\n",
    "import re"
   ]
  },
  {
   "cell_type": "code",
   "execution_count": 19,
   "metadata": {},
   "outputs": [],
   "source": [
    "def quick_sort_with_str(arr):\n",
    "    l = len(arr)\n",
    "    lo = []\n",
    "    hi = []\n",
    "\n",
    "    if l <= 1:\n",
    "        return arr\n",
    "    else:\n",
    "        pivot_int = int(re.search('[0-9]+', arr[l-1]).group())\n",
    "        pivot_str = arr.pop(l-1)\n",
    "\n",
    "        table_int = [int(re.search('[0-9]+', din).group()) for din in arr]\n",
    "        table_str = arr\n",
    "\n",
    "        for i, item in enumerate(table_int):\n",
    "\n",
    "            if item < pivot_int:\n",
    "                lo.append(table_str[i])\n",
    "            else:\n",
    "                hi.append(table_str[i])\n",
    "\n",
    "            \n",
    "        return quick_sort_with_str(lo) + [pivot_str] + quick_sort_with_str(hi)\n",
    "\n",
    "\n"
   ]
  },
  {
   "cell_type": "code",
   "execution_count": 20,
   "metadata": {},
   "outputs": [
    {
     "name": "stdout",
     "output_type": "stream",
     "text": [
      "sqlite.db - connect\n",
      "['DIN84', 'DIN94', 'DIN125', 'DIN127', 'DIN439', 'DIN440', 'DIN603', 'DIN605', 'DIN608', 'DIN835', 'DIN912', 'DIN913', 'DIN931', 'DIN933', 'DIN934', 'DIN935', 'DIN938', 'DIN939', 'DIN963', 'DIN965', 'DIN985', 'DIN1440', 'DIN1587', 'DIN6330', 'DIN6923(moneta)', 'DIN6923', 'DIN7980', 'DIN7985', 'DIN7991', 'DIN9021', 'PN82406']\n",
      "sqlite.db cursor close\n",
      "sqlite.db connection close\n"
     ]
    }
   ],
   "source": [
    "import pytest\n",
    "import sqlite3\n",
    "from src.moduls.Sqlite import Sqlite\n",
    "\n",
    "try:\n",
    "    with Sqlite() as sql:\n",
    "        sql.query(\"\"\"\n",
    "                SELECT DISTINCT waga_Norma\n",
    "                FROM waga\"\"\")\n",
    "\n",
    "        print(quick_sort_with_str(sql._query_to_list()))\n",
    "except Exception as e:\n",
    "    print(e)\n"
   ]
  },
  {
   "cell_type": "code",
   "execution_count": null,
   "metadata": {},
   "outputs": [],
   "source": []
  }
 ],
 "metadata": {
  "interpreter": {
   "hash": "c4e1a2703ad1e771c82b84a8f88a753fb706f41d94fcd9ee3348ba5d0f45dba1"
  },
  "kernelspec": {
   "display_name": "Python 3.9.7 64-bit ('base': conda)",
   "language": "python",
   "name": "python3"
  },
  "language_info": {
   "codemirror_mode": {
    "name": "ipython",
    "version": 3
   },
   "file_extension": ".py",
   "mimetype": "text/x-python",
   "name": "python",
   "nbconvert_exporter": "python",
   "pygments_lexer": "ipython3",
   "version": "3.9.7"
  },
  "orig_nbformat": 4
 },
 "nbformat": 4,
 "nbformat_minor": 2
}
